{
 "cells": [
  {
   "cell_type": "markdown",
   "metadata": {},
   "source": [
    "# Import"
   ]
  },
  {
   "cell_type": "code",
   "execution_count": 4,
   "metadata": {},
   "outputs": [],
   "source": [
    "import py_math as mth\n",
    "import py_shape as shp\n",
    "import py_image as img\n",
    "import py_pathtrace as ptr\n",
    "import py_commonio  as commonio\n",
    "import py_sceneio   as sio\n",
    "import py_filesystem   as fs"
   ]
  },
  {
   "cell_type": "code",
   "execution_count": 5,
   "metadata": {},
   "outputs": [],
   "source": [
    "def parse_cli(args):\n",
    "  filename = \"scene.json\"\n",
    "  output = \"out.json\"\n",
    "  validate = False\n",
    "  info = False\n",
    "  copyright_yocto = ''\n",
    "  \n",
    "  i = 0\n",
    "  for arg in args:\n",
    "    if not arg.startswith('-') and i == 0 and arg.endswith('.json'):\n",
    "      filename = arg\n",
    "    elif arg.startswith('-c'):\n",
    "      copyright_yocto = args[i+1]\n",
    "    elif arg.startswith('-i'):\n",
    "      info = bool(args[i+1])\n",
    "      copyright_yocto = args[i+1]\n",
    "    elif arg.startswith('--validate'):\n",
    "      validate = bool(args[i+1])\n",
    "    elif arg.startswith('-o'):\n",
    "      output = args[i+1]\n",
    "    i +=1\n",
    "\n",
    "  return filename, output, validate, info, copyright_yocto"
   ]
  },
  {
   "cell_type": "code",
   "execution_count": 6,
   "metadata": {},
   "outputs": [],
   "source": [
    "def make_preset(scene, type, error):\n",
    "  if(type == \"cornellbox\"):\n",
    "    sio.make_cornellbox(scene)\n",
    "    return True\n",
    "  else:\n",
    "    error = \"uknown preset\"\n",
    "    return False\n",
    "  return True\n",
    "\n",
    "def make_dir(dirname):\n",
    "  if(fs.path_exists(dirname)): return\n",
    "  try:\n",
    "    fs.path_create_directories(dirname)\n",
    "  except:\n",
    "    commonio.print_fatal(\"cannot create directory \" + dirname)"
   ]
  },
  {
   "cell_type": "code",
   "execution_count": 7,
   "metadata": {},
   "outputs": [],
   "source": [
    "def main(argv):\n",
    "  print(argv)\n",
    "  # command line parameters\n",
    "  validate = False\n",
    "  info = False\n",
    "  copyright_yocto = \"\"\n",
    "  output = \"out.json\"\n",
    "  filename = \"scene.json\"\n",
    "\n",
    "  filename, output, validate, info, copyright_yocto = parse_cli(argv)\n",
    "\n",
    "  # parse command line\n",
    "  cli = commonio.make_cli(\"yscnproc\", \"Process scene\")\n",
    "  commonio.add_option(cli, \"--info,-i\", info, \"print scene info\", False)\n",
    "  commonio.add_option(cli, \"--copyright,-c\", copyright_yocto, \"copyright string\", False)\n",
    "  commonio.add_option(cli, \"--validate/--no-validate\", validate, \"Validate scene\", False)\n",
    "  commonio.add_option(cli, \"--output,-o\", output, \"output scene\", False)\n",
    "  commonio.add_option(cli, \"scene\", filename, \"input scene\", True)\n",
    "\n",
    "  # load scene\n",
    "  ext = fs.path_extension(filename)\n",
    "  basename = fs.path_stem(filename)\n",
    "  scene = sio.model()\n",
    "  ioerror = \"\"\n",
    "\n",
    "  if (ext == \".ypreset\"):\n",
    "    commonio.print_progress(\"make preset\", 0, 1)\n",
    "    if not (make_preset(scene, basename, ioerror)):\n",
    "      commonio.print_progress(\"make preset\", 0, 1)\n",
    "  else:\n",
    "    if not (sio.load_scene(filename, scene, ioerror, commonio.print_progress)):\n",
    "      commonio.print_fatal(ioerror)\n",
    "\n",
    "  # copyright\n",
    "  if (copyright_yocto != \"\"):\n",
    "    scene.copyright = copyright_yocto\n",
    "  \n",
    "  # validate scene\n",
    "  if (validate):\n",
    "    for error in sio.scene_validation(scene):\n",
    "      commonio.print_info(\"error\" + error)\n",
    "\n",
    "  # print infor\n",
    "  if (info):\n",
    "    commonio.print_info(\"scene stats ----------\")\n",
    "    for stat in sio.scene_stats(scene):\n",
    "      commonio.print_info(stat)\n",
    "  \n",
    "  # tesselate if needed\n",
    "  if (fs.path_extension(output) != \".json\"):\n",
    "    for iosubdiv in scene.subdivs:\n",
    "      sio.tesselate_subdiv(scene, iosubdiv)\n",
    "  \n",
    "\n",
    "  # make a directory if needed\n",
    "  make_dir(fs.path_parent_path(output))\n",
    "  if scene.shapes:\n",
    "    make_dir(fs.path_parent_path(output) + \"shapes\")\n",
    "  if scene.subdivs:\n",
    "    make_dir(fs.path_parent_path(output) + \"subdivs\")\n",
    "  if scene.textures:\n",
    "    make_dir(fs.path_parent_path(output) + \"texture\")\n",
    "  if scene.instances:\n",
    "    make_dir(fs.path_parent_path(output) + \"instances\")\n",
    "\n",
    "\n",
    "  # save scene\n",
    "  if not sio.save_scene(output, scene, ioerror, commonio.print_progress):\n",
    "    print(ioerror)"
   ]
  },
  {
   "cell_type": "code",
   "execution_count": null,
   "metadata": {},
   "outputs": [],
   "source": [
    "main(['test.json'])"
   ]
  }
 ],
 "metadata": {
  "language_info": {
   "codemirror_mode": {
    "name": "ipython",
    "version": 3
   },
   "file_extension": ".py",
   "mimetype": "text/x-python",
   "name": "python",
   "nbconvert_exporter": "python",
   "pygments_lexer": "ipython3",
   "version": "3.6.9-final"
  },
  "orig_nbformat": 2,
  "kernelspec": {
   "name": "python36964bit1a5a37a478054a40b1cf9c7045d021de",
   "display_name": "Python 3.6.9 64-bit"
  }
 },
 "nbformat": 4,
 "nbformat_minor": 2
}